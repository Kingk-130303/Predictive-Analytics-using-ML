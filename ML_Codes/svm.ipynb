{
 "cells": [
  {
   "cell_type": "code",
   "execution_count": null,
   "metadata": {},
   "outputs": [],
   "source": [
    "import pandas as pd\n",
    "from sklearn.model_selection import train_test_split\n",
    "from sklearn.svm import SVC\n",
    "from sklearn.metrics import confusion_matrix, ConfusionMatrixDisplay, accuracy_score,roc_curve\n",
    "from sklearn.preprocessing import StandardScaler\n"
   ]
  },
  {
   "cell_type": "code",
   "execution_count": null,
   "metadata": {},
   "outputs": [],
   "source": [
    "csv_name = 'UniversalBank.csv'\n",
    "df = pd.read_csv(csv_name)\n",
    "df.head()"
   ]
  },
  {
   "cell_type": "code",
   "execution_count": null,
   "metadata": {},
   "outputs": [],
   "source": [
    "df.columns"
   ]
  },
  {
   "cell_type": "code",
   "execution_count": null,
   "metadata": {},
   "outputs": [],
   "source": [
    "selected_features = ['Age', 'Experience', 'Income', 'Family', 'CCAvg',\n",
    "       'Education', 'Mortgage', 'Personal Loan', 'Securities Account',\n",
    "       'CD Account', 'Online']\n",
    "target = 'CreditCard'\n",
    "X = df[selected_features]\n",
    "scaler = StandardScaler()\n",
    "X = scaler.fit_transform(X)\n",
    "y = df[target]"
   ]
  },
  {
   "cell_type": "code",
   "execution_count": null,
   "metadata": {},
   "outputs": [],
   "source": [
    "X_train, X_test, y_train, y_test = train_test_split(X, y, test_size = 0.2, random_state = 0)\n"
   ]
  },
  {
   "cell_type": "code",
   "execution_count": null,
   "metadata": {},
   "outputs": [],
   "source": [
    "from sklearn.svm import SVC\n",
    "from sklearn.metrics import accuracy_score\n",
    "\n",
    "# Define the kernel types and C values you want to test\n",
    "kernel_types = ['linear', 'poly', 'rbf', 'sigmoid']\n",
    "C_values = [0.1, 1, 10, 100]\n",
    "\n",
    "# Initialize the best score to 0\n",
    "best_score = 0\n",
    "best_kernel = None\n",
    "best_C = None\n",
    "\n",
    "# Iterate over the kernel types and C values\n",
    "for kernel in kernel_types:\n",
    "    for C in C_values:\n",
    "        # Create and fit the SVC model\n",
    "        svc = SVC(kernel=kernel, C=C)\n",
    "        svc.fit(X_train, y_train)\n",
    "\n",
    "        # Make predictions on the test set\n",
    "        y_pred = svc.predict(X_test)\n",
    "\n",
    "        # Compute the accuracy score\n",
    "        score = accuracy_score(y_test, y_pred)\n",
    "\n",
    "        # If the score is better than the best score so far, update the best score, kernel and C\n",
    "        if score > best_score:\n",
    "            best_score = score\n",
    "            best_kernel = kernel\n",
    "            best_C = C\n",
    "\n",
    "# Print the best score and the corresponding kernel type and C value\n",
    "print(f'Best accuracy score is {best_score:0.4f} with kernel={best_kernel} and C={best_C}')"
   ]
  },
  {
   "cell_type": "code",
   "execution_count": null,
   "metadata": {},
   "outputs": [],
   "source": [
    "cm = confusion_matrix(y_test, y_pred)\n",
    "disp = ConfusionMatrixDisplay(confusion_matrix=cm, display_labels=svc.classes_)\n",
    "disp.plot()"
   ]
  },
  {
   "cell_type": "code",
   "execution_count": null,
   "metadata": {},
   "outputs": [],
   "source": [
    "new_data_frame = {'SepalLengthCm': [5.1], 'SepalWidthCm': [3.5], 'PetalLengthCm': [1.4], 'PetalWidthCm': [0.2]}\n",
    "new_data = pd.DataFrame(new_data_frame)\n",
    "\n",
    "# Normalize the new data using the same scaler used for the training data\n",
    "new_data_normalized = scaler.transform(new_data)\n",
    "\n",
    "# Use the trained model to make a prediction\n",
    "prediction = svc.predict(new_data_normalized)\n",
    "\n",
    "print(\"Prediction:\", prediction)"
   ]
  },
  {
   "cell_type": "code",
   "execution_count": null,
   "metadata": {},
   "outputs": [],
   "source": []
  }
 ],
 "metadata": {
  "kernelspec": {
   "display_name": "Python 3",
   "language": "python",
   "name": "python3"
  },
  "language_info": {
   "codemirror_mode": {
    "name": "ipython",
    "version": 3
   },
   "file_extension": ".py",
   "mimetype": "text/x-python",
   "name": "python",
   "nbconvert_exporter": "python",
   "pygments_lexer": "ipython3",
   "version": "3.9.13"
  }
 },
 "nbformat": 4,
 "nbformat_minor": 2
}
